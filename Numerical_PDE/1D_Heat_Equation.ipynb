{
 "cells": [
  {
   "cell_type": "markdown",
   "metadata": {},
   "source": [
    "## The Heat Equation in 1D\n",
    "\n",
    "This is **Example 6.1.1** in Theorical Numerical Analysis by Atkinson\n",
    "\n",
    "**PDE Form**\n",
    "\n",
    "$$ \\frac{\\partial u}{\\partial t} = \\alpha \\frac{\\partial^2 u}{\\partial x^2}, \\quad \\text{\\quad in\\quad} (0, \\pi) \\times (0, T) $$\n",
    "\n",
    "Where:\n",
    "- $u(x,t)$: Temperature at position $x$ and time $t$\n",
    "- $\\alpha$: Thermal diffusivity (a constant)\n",
    "- $T$: Final time\n",
    "\n",
    "**Boundary Condition**\n",
    "$$u(0,t) = u(\\pi,t) = 0, \\quad 0 \\leqslant t \\leqslant T$$\n",
    "\n",
    "**Initial Condition**\n",
    "$$u(x, 0) = u_{0}(x) \\quad 0\\leqslant x \\leqslant \\pi$$\n",
    "\n",
    "**Discretization**\n",
    "- Using Finite Difference, particularly Crank-Nicholson method with\n",
    "\n",
    "$x_{i} = ih_{x}, \\text{\\quad where \\quad} i =  1, ..., N_x - 1\\\\$\n",
    "$t_{m} = mh_{t}, \\text{\\quad where \\quad} m =  1, ..., N_t - 1$\n",
    "\n",
    "the grid points are $(x_{i}, t_{m})$ furthermore, $h_{x} = \\frac{\\pi}{N_{x}}$ and $h_{t} = \\frac{T}{N_{t}}$\n",
    "\n",
    "Hence, the PDE is discretizing as:\n",
    "\n",
    "$$ \\approx \\frac{u_{i}^{m} - u_{i}^{m-1}}{h_t} = \\alpha \\frac{(u_{i+1}^{m} - 2u_{i}^{m} + u_{i-1}^m) + (u_{i+1}^{m-1} - 2u_{i}^{m-1} + u_{i-1}^{m-1})}{h_{x}^2}$$\n",
    "\n",
    "Let $r = \\frac{h_{t}\\alpha}{h_{x}^2}$, we have:\n",
    "\n",
    "$$ (1 + r)u_{i}^{m} - \\frac{r}{2}(u_{i+1}^{m} + u_{i-1}^{m}) = (1 - r)u_{i}^{m-1} + \\frac{r}{2}(u_{i+1}^{m-1} + u_{i-1}^{m-1})$$\n",
    "\n",
    "Hence, we obtain a system of $\\bold{A} \\cdot u^{m} = \\bold{B} \\cdot u^{m-1}$, such as:\n",
    "\n",
    "$$\n",
    "\\begin{bmatrix} \n",
    "1 + r & -\\frac{r}{2} & 0 & \\cdots & 0 \\\\ \n",
    "-\\frac{r}{2} & 1 + r & -\\frac{r}{2} & \\cdots & 0 \\\\ \n",
    "\\vdots & \\vdots & \\vdots & \\ddots & -\\frac{r}{2} \\\\\n",
    "0 & 0 & 0 & -\\frac{r}{2} & 1 + r\n",
    "\\end{bmatrix}\n",
    "\\cdot \n",
    "\\begin{bmatrix}\n",
    "u_{1}^{m} \\\\ u_{2}^{m} \\\\ \\vdots \\\\ u_{N_{x}}^{m}\n",
    "\\end{bmatrix}\n",
    "\n",
    "=\n",
    "\n",
    "\\begin{bmatrix} \n",
    "1 - r & \\frac{r}{2} & 0 & \\cdots & 0 \\\\ \n",
    "\\frac{r}{2} & 1 - r & \\frac{r}{2} & \\cdots & 0 \\\\ \n",
    "\\vdots & \\vdots & \\vdots & \\ddots & \\frac{r}{2} \\\\\n",
    "0 & 0 & 0 & \\frac{r}{2} & 1 - r\n",
    "\\end{bmatrix}\n",
    "\\cdot \n",
    "\\begin{bmatrix}\n",
    "u_{1}^{m-1} \\\\ u_{2}^{m-1} \\\\ \\vdots \\\\ u_{N_{x}}^{m-1}\n",
    "\\end{bmatrix}\n",
    "\n",
    "\n",
    "$$\n",
    "\n"
   ]
  },
  {
   "cell_type": "code",
   "execution_count": 1,
   "metadata": {},
   "outputs": [],
   "source": [
    "import numpy as np"
   ]
  }
 ],
 "metadata": {
  "kernelspec": {
   "display_name": "Python 3",
   "language": "python",
   "name": "python3"
  },
  "language_info": {
   "codemirror_mode": {
    "name": "ipython",
    "version": 3
   },
   "file_extension": ".py",
   "mimetype": "text/x-python",
   "name": "python",
   "nbconvert_exporter": "python",
   "pygments_lexer": "ipython3",
   "version": "3.11.9"
  }
 },
 "nbformat": 4,
 "nbformat_minor": 2
}
