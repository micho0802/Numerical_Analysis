{
 "cells": [
  {
   "cell_type": "markdown",
   "metadata": {},
   "source": [
    "## The Heat Equation in 1D\n",
    "\n",
    "**PDE Form**\n",
    "\n",
    "$$ \\frac{\\partial u}{\\partial t} = \\alpha \\frac{\\partial^2 u}{\\partial x^2}, \\quad 0 < x < L, t > 0 $$\n",
    "\n",
    "Where:\n",
    "- $u(x,t)$: Temperature at position $x$ and time $t$\n",
    "- $\\alpha$: Thermal diffusivity (a constant)\n",
    "- $L$: Length of the rod\n",
    "\n",
    "**Boundary Condition**\n",
    "$$u(0,t) = 0, \\quad u(L,t) = 0, \\quad t \\geqslant 0$$\n",
    "\n",
    "**Initial Condition**\n",
    "$$u(x, 0) = f(x) \\quad 0\\leqslant x \\leqslant L$$"
   ]
  },
  {
   "cell_type": "code",
   "execution_count": 3,
   "metadata": {},
   "outputs": [],
   "source": [
    "import numpy as np"
   ]
  }
 ],
 "metadata": {
  "kernelspec": {
   "display_name": "venv",
   "language": "python",
   "name": "python3"
  },
  "language_info": {
   "codemirror_mode": {
    "name": "ipython",
    "version": 3
   },
   "file_extension": ".py",
   "mimetype": "text/x-python",
   "name": "python",
   "nbconvert_exporter": "python",
   "pygments_lexer": "ipython3",
   "version": "3.12.3"
  }
 },
 "nbformat": 4,
 "nbformat_minor": 2
}
