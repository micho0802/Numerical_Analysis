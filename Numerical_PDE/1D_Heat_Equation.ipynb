{
 "cells": [
  {
   "cell_type": "markdown",
   "metadata": {},
   "source": [
    "## The Heat Equation in 1D\n",
    "\n",
    "This is **Example 6.1.1** in Theorical Numerical Analysis by Atkinson\n",
    "\n",
    "**PDE Form**\n",
    "\n",
    "$$ \\frac{\\partial u}{\\partial t} = \\alpha \\frac{\\partial^2 u}{\\partial x^2}, \\quad \\text{\\quad in\\quad} (0, \\pi) \\times (0, T) $$\n",
    "\n",
    "Where:\n",
    "- $u(x,t)$: Temperature at position $x$ and time $t$\n",
    "- $\\alpha$: Thermal diffusivity (a constant)\n",
    "- $T$: Final time\n",
    "\n",
    "**Boundary Condition**\n",
    "$$u(0,t) = u(\\pi,t) = 0, \\quad 0 \\leqslant t \\leqslant T$$\n",
    "\n",
    "**Initial Condition**\n",
    "$$u(x, 0) = u_{0}(x) \\quad 0\\leqslant x \\leqslant \\pi$$"
   ]
  },
  {
   "cell_type": "code",
   "execution_count": 1,
   "metadata": {},
   "outputs": [],
   "source": [
    "import numpy as np"
   ]
  }
 ],
 "metadata": {
  "kernelspec": {
   "display_name": "Python 3",
   "language": "python",
   "name": "python3"
  },
  "language_info": {
   "codemirror_mode": {
    "name": "ipython",
    "version": 3
   },
   "file_extension": ".py",
   "mimetype": "text/x-python",
   "name": "python",
   "nbconvert_exporter": "python",
   "pygments_lexer": "ipython3",
   "version": "3.11.9"
  }
 },
 "nbformat": 4,
 "nbformat_minor": 2
}
