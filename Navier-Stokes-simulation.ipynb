{
 "cells": [
  {
   "cell_type": "markdown",
   "metadata": {
    "vscode": {
     "languageId": "latex"
    }
   },
   "source": [
    "Solves the incompressible Navier-Stokes equations in a rectangular domain with prescribed velocities along the boundary. The solution method is finite differencing on a staggered grid with implicit diffusion and a Chorin projection method for the pressure. Visualization is done by a colormap-isoline plot for pressure and normalized quiver and streamline plot for the velocity field. The standard setup solves a lid driven cavity problem."
   ]
  },
  {
   "cell_type": "markdown",
   "metadata": {},
   "source": [
    "Convert to Python according to this paper https://math.mit.edu/~gs/cse/codes/mit18086_navierstokes.pdf"
   ]
  },
  {
   "cell_type": "code",
   "execution_count": 1,
   "metadata": {},
   "outputs": [],
   "source": [
    "import numpy as np\n",
    "import scipy \n",
    "import scipy.sparse as sp\n",
    "import scipy.sparse.linalg as spla\n",
    "from scipy.sparse import diags, kron, csr_matrix\n",
    "from scipy.sparse.csgraph import reverse_cuthill_mckee\n",
    "\n",
    "\n",
    "import tqdm\n"
   ]
  },
  {
   "cell_type": "code",
   "execution_count": 2,
   "metadata": {},
   "outputs": [
    {
     "name": "stdout",
     "output_type": "stream",
     "text": [
      "[[2.]\n",
      " [3.]\n",
      " [4.]]\n"
     ]
    }
   ],
   "source": [
    "def avg(A, k=1) -> np.ndarray:\n",
    "    \"\"\"\n",
    "    Average adjacent elements in array A over k iterations.\n",
    "    \n",
    "    Args:\n",
    "    A (np.ndarray): The input array.\n",
    "    k (int): Number of iterations to average over.\n",
    "    \n",
    "    Returns:\n",
    "    np.ndarray: Array after averaging adjacent elements k times.\n",
    "    \"\"\"\n",
    "    A = np.asarray(A)\n",
    "    if A.ndim == 1:\n",
    "        A = A.reshape(-1, 1)  # Make A a column vector if it is a row vector\n",
    "    \n",
    "    B = A\n",
    "    for _ in range(k):\n",
    "        B = (B[:-1] + B[1:]) / 2\n",
    "    \n",
    "    if A.shape[0] == 1:\n",
    "        B = B.T  # Transpose back to row vector if A was originally a row vector\n",
    "    \n",
    "    return B\n",
    "\n",
    "# Example usage\n",
    "A = np.array([1, 2, 3, 4, 5])\n",
    "result = avg(A, k=2)\n",
    "print(result)\n"
   ]
  },
  {
   "cell_type": "code",
   "execution_count": 3,
   "metadata": {},
   "outputs": [
    {
     "name": "stdout",
     "output_type": "stream",
     "text": [
      "[[ 2. -1.  0.  0.  0.]\n",
      " [-1.  2. -1.  0.  0.]\n",
      " [ 0. -1.  2. -1.  0.]\n",
      " [ 0.  0. -1.  2. -1.]\n",
      " [ 0.  0.  0. -1.  2.]]\n"
     ]
    }
   ],
   "source": [
    "def lap1d(n, h, a11) -> np.ndarray:\n",
    "    e = np.ones(n)\n",
    "    data = np.array([-e, 2 * e, -e])\n",
    "    offsets = np.array([-1, 0, 1])\n",
    "    lap = sp.diags(data, offsets, shape=(n, n)) / (h ** 2)\n",
    "    if a11 == 1:\n",
    "        lap = lap.tolil()\n",
    "        lap[0, 0] = 1\n",
    "        lap[-1, -1] = 1\n",
    "        lap = lap.tocsc()\n",
    "    return lap\n",
    "\n",
    "# Example usage:\n",
    "n = 5  # number of points\n",
    "h = 1.0  # spacing\n",
    "a11 = 2  # Dirichlet boundary condition\n",
    "A = lap1d(n, h, a11)\n",
    "print(A.toarray())  # Convert to a dense matrix for display\n"
   ]
  },
  {
   "cell_type": "code",
   "execution_count": 52,
   "metadata": {},
   "outputs": [
    {
     "name": "stdout",
     "output_type": "stream",
     "text": [
      "Permutation vector: [2 3 4 0 1]\n"
     ]
    }
   ],
   "source": [
    "def symmetric_amd_permutation(A) -> np.ndarray:\n",
    "    \"\"\"\n",
    "    Compute the symmetric approximate minimum degree permutation of a sparse matrix.\n",
    "\n",
    "    Parameters:\n",
    "    A (scipy.sparse.csr_matrix): The input sparse matrix.\n",
    "\n",
    "    Returns:\n",
    "    numpy.ndarray: The permutation vector.\n",
    "    \"\"\"\n",
    "    # Ensure the matrix is in CSR format\n",
    "    if not isinstance(A, csr_matrix):\n",
    "        A = csr_matrix(A)\n",
    "    \n",
    "    # Compute the reverse Cuthill-McKee ordering\n",
    "    perm = reverse_cuthill_mckee(A, symmetric_mode=True)\n",
    "    perm = np.array(perm, dtype = int)\n",
    "    \n",
    "    return perm\n",
    "\n",
    "# Example usage\n",
    "if __name__ == \"__main__\":\n",
    "    # Create an example sparse matrix\n",
    "    n = 5\n",
    "    A = csr_matrix([\n",
    "        [10, 1, 0, 0, 2],\n",
    "        [1, 9, 0, 0, 0],\n",
    "        [0, 0, 7, 3, 0],\n",
    "        [0, 0, 3, 8, 4],\n",
    "        [2, 0, 0, 4, 6]\n",
    "    ])\n",
    "    \n",
    "    # Compute the symmetric AMD permutation\n",
    "    perm = symmetric_amd_permutation(A)\n",
    "    \n",
    "    # Print the permutation\n",
    "    print(\"Permutation vector:\", perm)\n"
   ]
  },
  {
   "cell_type": "code",
   "execution_count": 5,
   "metadata": {},
   "outputs": [],
   "source": [
    "#Define parameter\n",
    "\n",
    "Re = 3000    # Reynold number\n",
    "dt = 0.01    # time-step\n",
    "tf = 3       # final time\n",
    "lx = 1       # width of the box\n",
    "ly = 1       # height of the box\n",
    "nx = 100     # number of x-gridpoints\n",
    "ny = 111     # number of y-gridpoints \n",
    "nsteps = 30  # number of steps with graphic output"
   ]
  },
  {
   "cell_type": "code",
   "execution_count": 6,
   "metadata": {},
   "outputs": [],
   "source": [
    "#Set up the grid\n",
    "nt = np.ceil(tf/dt)  # Round down to the nearest integer aka #of iters\n",
    "x = np.linspace(start = 0, stop = lx, num = nx + 1)  # Vector of x from 0 to lx = 1, and the step size is nx + 1 = 101\n",
    "hx = lx/nx           # Spatial discretization step sizes in x direction i.e lx/nx = 0.01\n",
    "y = np.linspace(start = 0, stop = ly, num = ny + 1)  # Vector of y from 0 to ly = 1 and the step size is ny + 1 = 112\n",
    "hy = ly/ny           # Spatial discretization step sizes in y direction i.e ly/ny\n",
    "X, Y = np.meshgrid(x, y)  # Generate the meshgrid"
   ]
  },
  {
   "cell_type": "code",
   "execution_count": 7,
   "metadata": {},
   "outputs": [],
   "source": [
    "#Inital condition\n",
    "\n",
    "U = np.zeros((nx - 1, ny))\n",
    "V = np.zeros((nx, ny - 1))"
   ]
  },
  {
   "cell_type": "code",
   "execution_count": 8,
   "metadata": {},
   "outputs": [],
   "source": [
    "#Boundary condition\n",
    "\n",
    "uN = x*0 + 1      #u - north\n",
    "vN = avg(x)*0     #v - north\n",
    "uS = x*0          #u - south\n",
    "vS = avg(x)*0     #v - south\n",
    "uW = avg(y)*0     #u - west\n",
    "vW = y*0          #v - west\n",
    "uE = avg(y)*0     #u - east\n",
    "vE = y*0          #v - east"
   ]
  },
  {
   "cell_type": "code",
   "execution_count": 9,
   "metadata": {},
   "outputs": [],
   "source": [
    "#U with boundary condition\n",
    "\n",
    "Ubc = dt/Re *((np.hstack([2* uS[1:-1].reshape(1, -1).T, np.zeros((nx - 1, ny - 2)), 2* uN[1:-1].reshape(1,-1).T]) / hx ** 2) + (np.vstack([uW.T, np.zeros((nx - 3, ny)), uE.T]) / hy ** 2))\n"
   ]
  },
  {
   "cell_type": "code",
   "execution_count": 10,
   "metadata": {},
   "outputs": [],
   "source": [
    "#V with boundary condition\n",
    "\n",
    "Vbc = dt/Re * ((np.hstack([vS, np.zeros((nx, ny - 3)), vN]) / hx ** 2) + (np.vstack([2* vW[1:-1].reshape(1, -1), np.zeros((nx - 2, ny -1)), 2* vE[1:-1].reshape(1,-1)]) / hy ** 2))"
   ]
  },
  {
   "cell_type": "code",
   "execution_count": 43,
   "metadata": {},
   "outputs": [],
   "source": [
    "#Diffusion term in the u-velocity\n",
    "\n",
    "Lu = np.eye((nx - 1)* ny) + dt/Re * (kron(np.eye(ny), lap1d(nx-1, hx, 2)) + kron(lap1d(ny, hy, 3), np.eye(nx - 1)))\n",
    "peru = symmetric_amd_permutation(Lu)\n",
    "Lu_perm = Lu[peru, :][:, peru]\n",
    "Ru = np.linalg.cholesky(Lu_perm)\n",
    "Ru_transpose = Ru.T\n"
   ]
  },
  {
   "cell_type": "code",
   "execution_count": 41,
   "metadata": {},
   "outputs": [],
   "source": [
    "#Diffusion term in the v-velocity\n",
    "\n",
    "Lv = np.eye(nx* (ny - 1)) + dt/Re * (kron(np.eye(ny - 1), lap1d(nx, hx, 3)) + kron(lap1d(ny - 1, hy, 2), np.eye(nx)))\n",
    "perv = symmetric_amd_permutation(Lv)\n",
    "Lv_perm = Lv[perv, :][:, perv]\n",
    "Rv = np.linalg.cholesky(Lv_perm)\n",
    "Rv_transpose = Rv.T"
   ]
  },
  {
   "cell_type": "code",
   "execution_count": 42,
   "metadata": {},
   "outputs": [
    {
     "data": {
      "text/plain": [
       "(11000, 11000)"
      ]
     },
     "execution_count": 42,
     "metadata": {},
     "output_type": "execute_result"
    }
   ],
   "source": [
    "Rv.shape    "
   ]
  },
  {
   "cell_type": "code",
   "execution_count": 45,
   "metadata": {},
   "outputs": [],
   "source": [
    "#For the stream function\n",
    "\n",
    "Lq = kron(np.eye(ny - 1), lap1d(nx - 1, hx, 2)) + kron(lap1d(ny - 1, hy, 2), np.eye(nx - 1))\n",
    "perq = symmetric_amd_permutation(Lq)\n",
    "Lq_perm = Lq[perq, :][:, perq]\n",
    "# Rq = np.linalg.cholesky(Lq_perm)\n",
    "# Rq_transpose = Rq.T"
   ]
  },
  {
   "cell_type": "code",
   "execution_count": 59,
   "metadata": {},
   "outputs": [
    {
     "ename": "LinAlgError",
     "evalue": "0-dimensional array given. Array must be at least two-dimensional",
     "output_type": "error",
     "traceback": [
      "\u001b[1;31m---------------------------------------------------------------------------\u001b[0m",
      "\u001b[1;31mLinAlgError\u001b[0m                               Traceback (most recent call last)",
      "Cell \u001b[1;32mIn[59], line 1\u001b[0m\n\u001b[1;32m----> 1\u001b[0m \u001b[43mnp\u001b[49m\u001b[38;5;241;43m.\u001b[39;49m\u001b[43mlinalg\u001b[49m\u001b[38;5;241;43m.\u001b[39;49m\u001b[43mcholesky\u001b[49m\u001b[43m(\u001b[49m\u001b[43mLq_perm\u001b[49m\u001b[43m)\u001b[49m\n",
      "File \u001b[1;32m<__array_function__ internals>:200\u001b[0m, in \u001b[0;36mcholesky\u001b[1;34m(*args, **kwargs)\u001b[0m\n",
      "File \u001b[1;32mc:\\Users\\hoang\\AppData\\Local\\Programs\\Python\\Python311\\Lib\\site-packages\\numpy\\linalg\\linalg.py:752\u001b[0m, in \u001b[0;36mcholesky\u001b[1;34m(a)\u001b[0m\n\u001b[0;32m    750\u001b[0m gufunc \u001b[38;5;241m=\u001b[39m _umath_linalg\u001b[38;5;241m.\u001b[39mcholesky_lo\n\u001b[0;32m    751\u001b[0m a, wrap \u001b[38;5;241m=\u001b[39m _makearray(a)\n\u001b[1;32m--> 752\u001b[0m \u001b[43m_assert_stacked_2d\u001b[49m\u001b[43m(\u001b[49m\u001b[43ma\u001b[49m\u001b[43m)\u001b[49m\n\u001b[0;32m    753\u001b[0m _assert_stacked_square(a)\n\u001b[0;32m    754\u001b[0m t, result_t \u001b[38;5;241m=\u001b[39m _commonType(a)\n",
      "File \u001b[1;32mc:\\Users\\hoang\\AppData\\Local\\Programs\\Python\\Python311\\Lib\\site-packages\\numpy\\linalg\\linalg.py:183\u001b[0m, in \u001b[0;36m_assert_stacked_2d\u001b[1;34m(*arrays)\u001b[0m\n\u001b[0;32m    181\u001b[0m \u001b[38;5;28;01mfor\u001b[39;00m a \u001b[38;5;129;01min\u001b[39;00m arrays:\n\u001b[0;32m    182\u001b[0m     \u001b[38;5;28;01mif\u001b[39;00m a\u001b[38;5;241m.\u001b[39mndim \u001b[38;5;241m<\u001b[39m \u001b[38;5;241m2\u001b[39m:\n\u001b[1;32m--> 183\u001b[0m         \u001b[38;5;28;01mraise\u001b[39;00m LinAlgError(\u001b[38;5;124m'\u001b[39m\u001b[38;5;132;01m%d\u001b[39;00m\u001b[38;5;124m-dimensional array given. Array must be \u001b[39m\u001b[38;5;124m'\u001b[39m\n\u001b[0;32m    184\u001b[0m                 \u001b[38;5;124m'\u001b[39m\u001b[38;5;124mat least two-dimensional\u001b[39m\u001b[38;5;124m'\u001b[39m \u001b[38;5;241m%\u001b[39m a\u001b[38;5;241m.\u001b[39mndim)\n",
      "\u001b[1;31mLinAlgError\u001b[0m: 0-dimensional array given. Array must be at least two-dimensional"
     ]
    },
    {
     "ename": "",
     "evalue": "",
     "output_type": "error",
     "traceback": [
      "\u001b[1;31mThe Kernel crashed while executing code in the current cell or a previous cell. \n",
      "\u001b[1;31mPlease review the code in the cell(s) to identify a possible cause of the failure. \n",
      "\u001b[1;31mClick <a href='https://aka.ms/vscodeJupyterKernelCrash'>here</a> for more info. \n",
      "\u001b[1;31mView Jupyter <a href='command:jupyter.viewOutput'>log</a> for further details."
     ]
    }
   ],
   "source": [
    "np.linalg.cholesky(Lq_perm)"
   ]
  },
  {
   "cell_type": "code",
   "execution_count": 17,
   "metadata": {},
   "outputs": [
    {
     "data": {
      "text/plain": [
       "((10890, 10890), (11000, 11000))"
      ]
     },
     "execution_count": 17,
     "metadata": {},
     "output_type": "execute_result"
    }
   ],
   "source": [
    "Lq_perm.shape, Lv_perm.shape    "
   ]
  },
  {
   "cell_type": "code",
   "execution_count": 13,
   "metadata": {},
   "outputs": [
    {
     "ename": "LinAlgError",
     "evalue": "0-dimensional array given. Array must be at least two-dimensional",
     "output_type": "error",
     "traceback": [
      "\u001b[1;31m---------------------------------------------------------------------------\u001b[0m",
      "\u001b[1;31mLinAlgError\u001b[0m                               Traceback (most recent call last)",
      "Cell \u001b[1;32mIn[13], line 12\u001b[0m\n\u001b[0;32m      9\u001b[0m perp \u001b[38;5;241m=\u001b[39m spla\u001b[38;5;241m.\u001b[39msplu(Lp)\u001b[38;5;241m.\u001b[39mperm_r\n\u001b[0;32m     10\u001b[0m Lp_perp \u001b[38;5;241m=\u001b[39m Lp[perp, :][:, perp]\n\u001b[1;32m---> 12\u001b[0m Rp \u001b[38;5;241m=\u001b[39m \u001b[43mnp\u001b[49m\u001b[38;5;241;43m.\u001b[39;49m\u001b[43mlinalg\u001b[49m\u001b[38;5;241;43m.\u001b[39;49m\u001b[43mcholesky\u001b[49m\u001b[43m(\u001b[49m\u001b[43mLp_perp\u001b[49m\u001b[43m)\u001b[49m\n\u001b[0;32m     13\u001b[0m Rp_transpose \u001b[38;5;241m=\u001b[39m Rp\u001b[38;5;241m.\u001b[39mT\n",
      "File \u001b[1;32m<__array_function__ internals>:200\u001b[0m, in \u001b[0;36mcholesky\u001b[1;34m(*args, **kwargs)\u001b[0m\n",
      "File \u001b[1;32mc:\\Users\\hoang\\AppData\\Local\\Programs\\Python\\Python311\\Lib\\site-packages\\numpy\\linalg\\linalg.py:752\u001b[0m, in \u001b[0;36mcholesky\u001b[1;34m(a)\u001b[0m\n\u001b[0;32m    750\u001b[0m gufunc \u001b[38;5;241m=\u001b[39m _umath_linalg\u001b[38;5;241m.\u001b[39mcholesky_lo\n\u001b[0;32m    751\u001b[0m a, wrap \u001b[38;5;241m=\u001b[39m _makearray(a)\n\u001b[1;32m--> 752\u001b[0m \u001b[43m_assert_stacked_2d\u001b[49m\u001b[43m(\u001b[49m\u001b[43ma\u001b[49m\u001b[43m)\u001b[49m\n\u001b[0;32m    753\u001b[0m _assert_stacked_square(a)\n\u001b[0;32m    754\u001b[0m t, result_t \u001b[38;5;241m=\u001b[39m _commonType(a)\n",
      "File \u001b[1;32mc:\\Users\\hoang\\AppData\\Local\\Programs\\Python\\Python311\\Lib\\site-packages\\numpy\\linalg\\linalg.py:183\u001b[0m, in \u001b[0;36m_assert_stacked_2d\u001b[1;34m(*arrays)\u001b[0m\n\u001b[0;32m    181\u001b[0m \u001b[38;5;28;01mfor\u001b[39;00m a \u001b[38;5;129;01min\u001b[39;00m arrays:\n\u001b[0;32m    182\u001b[0m     \u001b[38;5;28;01mif\u001b[39;00m a\u001b[38;5;241m.\u001b[39mndim \u001b[38;5;241m<\u001b[39m \u001b[38;5;241m2\u001b[39m:\n\u001b[1;32m--> 183\u001b[0m         \u001b[38;5;28;01mraise\u001b[39;00m LinAlgError(\u001b[38;5;124m'\u001b[39m\u001b[38;5;132;01m%d\u001b[39;00m\u001b[38;5;124m-dimensional array given. Array must be \u001b[39m\u001b[38;5;124m'\u001b[39m\n\u001b[0;32m    184\u001b[0m                 \u001b[38;5;124m'\u001b[39m\u001b[38;5;124mat least two-dimensional\u001b[39m\u001b[38;5;124m'\u001b[39m \u001b[38;5;241m%\u001b[39m a\u001b[38;5;241m.\u001b[39mndim)\n",
      "\u001b[1;31mLinAlgError\u001b[0m: 0-dimensional array given. Array must be at least two-dimensional"
     ]
    }
   ],
   "source": [
    "#Pressure correction for pressure\n",
    "\n",
    "Lp = kron(np.eye(ny), lap1d(nx, hx, 1)) + kron(lap1d(ny, hy, 1), np.eye(nx)) \n",
    "\n",
    "Lp = Lp.tolil()\n",
    "Lp[0, 0] = 3/2 * Lp[0, 0]\n",
    "Lp = Lp.tocsc()\n",
    "\n",
    "perp = spla.splu(Lp).perm_r\n",
    "Lp_perp = Lp[perp, :][:, perp]\n",
    "\n",
    "Rp = np.linalg.cholesky(Lp_perp)\n",
    "Rp_transpose = Rp.T\n"
   ]
  },
  {
   "cell_type": "code",
   "execution_count": 23,
   "metadata": {},
   "outputs": [],
   "source": [
    "perp = spla.splu(Lp).perm_r\n"
   ]
  },
  {
   "cell_type": "code",
   "execution_count": 18,
   "metadata": {},
   "outputs": [
    {
     "name": "stdout",
     "output_type": "stream",
     "text": [
      "33481.5\n"
     ]
    }
   ],
   "source": [
    "Lp[0, 0] = 3/2 * Lp[0, 0]\n",
    "print(Lp[0, 0])"
   ]
  },
  {
   "cell_type": "code",
   "execution_count": 16,
   "metadata": {},
   "outputs": [
    {
     "data": {
      "text/plain": [
       "(11100, 11100)"
      ]
     },
     "execution_count": 16,
     "metadata": {},
     "output_type": "execute_result"
    }
   ],
   "source": [
    "Lp_perm.shape"
   ]
  },
  {
   "cell_type": "code",
   "execution_count": 14,
   "metadata": {},
   "outputs": [
    {
     "ename": "LinAlgError",
     "evalue": "0-dimensional array given. Array must be at least two-dimensional",
     "output_type": "error",
     "traceback": [
      "\u001b[1;31m---------------------------------------------------------------------------\u001b[0m",
      "\u001b[1;31mLinAlgError\u001b[0m                               Traceback (most recent call last)",
      "Cell \u001b[1;32mIn[14], line 3\u001b[0m\n\u001b[0;32m      1\u001b[0m perp \u001b[38;5;241m=\u001b[39m symmetric_amd_permutation(Lp)\n\u001b[0;32m      2\u001b[0m Lp_perm \u001b[38;5;241m=\u001b[39m Lp[perp, :][:, perp]\n\u001b[1;32m----> 3\u001b[0m Rp \u001b[38;5;241m=\u001b[39m \u001b[43mnp\u001b[49m\u001b[38;5;241;43m.\u001b[39;49m\u001b[43mlinalg\u001b[49m\u001b[38;5;241;43m.\u001b[39;49m\u001b[43mcholesky\u001b[49m\u001b[43m(\u001b[49m\u001b[43mLp_perm\u001b[49m\u001b[43m)\u001b[49m\n\u001b[0;32m      4\u001b[0m Rp_transpose \u001b[38;5;241m=\u001b[39m Rp\u001b[38;5;241m.\u001b[39mT\n",
      "File \u001b[1;32m<__array_function__ internals>:200\u001b[0m, in \u001b[0;36mcholesky\u001b[1;34m(*args, **kwargs)\u001b[0m\n",
      "File \u001b[1;32mc:\\Users\\hoang\\AppData\\Local\\Programs\\Python\\Python311\\Lib\\site-packages\\numpy\\linalg\\linalg.py:752\u001b[0m, in \u001b[0;36mcholesky\u001b[1;34m(a)\u001b[0m\n\u001b[0;32m    750\u001b[0m gufunc \u001b[38;5;241m=\u001b[39m _umath_linalg\u001b[38;5;241m.\u001b[39mcholesky_lo\n\u001b[0;32m    751\u001b[0m a, wrap \u001b[38;5;241m=\u001b[39m _makearray(a)\n\u001b[1;32m--> 752\u001b[0m \u001b[43m_assert_stacked_2d\u001b[49m\u001b[43m(\u001b[49m\u001b[43ma\u001b[49m\u001b[43m)\u001b[49m\n\u001b[0;32m    753\u001b[0m _assert_stacked_square(a)\n\u001b[0;32m    754\u001b[0m t, result_t \u001b[38;5;241m=\u001b[39m _commonType(a)\n",
      "File \u001b[1;32mc:\\Users\\hoang\\AppData\\Local\\Programs\\Python\\Python311\\Lib\\site-packages\\numpy\\linalg\\linalg.py:183\u001b[0m, in \u001b[0;36m_assert_stacked_2d\u001b[1;34m(*arrays)\u001b[0m\n\u001b[0;32m    181\u001b[0m \u001b[38;5;28;01mfor\u001b[39;00m a \u001b[38;5;129;01min\u001b[39;00m arrays:\n\u001b[0;32m    182\u001b[0m     \u001b[38;5;28;01mif\u001b[39;00m a\u001b[38;5;241m.\u001b[39mndim \u001b[38;5;241m<\u001b[39m \u001b[38;5;241m2\u001b[39m:\n\u001b[1;32m--> 183\u001b[0m         \u001b[38;5;28;01mraise\u001b[39;00m LinAlgError(\u001b[38;5;124m'\u001b[39m\u001b[38;5;132;01m%d\u001b[39;00m\u001b[38;5;124m-dimensional array given. Array must be \u001b[39m\u001b[38;5;124m'\u001b[39m\n\u001b[0;32m    184\u001b[0m                 \u001b[38;5;124m'\u001b[39m\u001b[38;5;124mat least two-dimensional\u001b[39m\u001b[38;5;124m'\u001b[39m \u001b[38;5;241m%\u001b[39m a\u001b[38;5;241m.\u001b[39mndim)\n",
      "\u001b[1;31mLinAlgError\u001b[0m: 0-dimensional array given. Array must be at least two-dimensional"
     ]
    }
   ],
   "source": [
    "perp = symmetric_amd_permutation(Lp)\n",
    "Lp_perm = Lp[perp, :][:, perp]\n",
    "Rp = np.linalg.cholesky(Lp_perm)\n",
    "Rp_transpose = Rp.T"
   ]
  },
  {
   "cell_type": "code",
   "execution_count": 49,
   "metadata": {},
   "outputs": [
    {
     "ename": "TypeError",
     "evalue": "'module' object is not callable",
     "output_type": "error",
     "traceback": [
      "\u001b[1;31m---------------------------------------------------------------------------\u001b[0m",
      "\u001b[1;31mTypeError\u001b[0m                                 Traceback (most recent call last)",
      "Cell \u001b[1;32mIn[49], line 2\u001b[0m\n\u001b[0;32m      1\u001b[0m \u001b[38;5;66;03m# Treat nonlinear term\u001b[39;00m\n\u001b[1;32m----> 2\u001b[0m \u001b[38;5;28;01mfor\u001b[39;00m k \u001b[38;5;129;01min\u001b[39;00m \u001b[43mtqdm\u001b[49m\u001b[43m(\u001b[49m\u001b[38;5;28;43mrange\u001b[39;49m\u001b[43m(\u001b[49m\u001b[38;5;241;43m1000\u001b[39;49m\u001b[43m)\u001b[49m\u001b[43m,\u001b[49m\u001b[43m \u001b[49m\u001b[43mdesc\u001b[49m\u001b[38;5;241;43m=\u001b[39;49m\u001b[38;5;124;43m\"\u001b[39;49m\u001b[38;5;124;43mProcessing iterations\u001b[39;49m\u001b[38;5;124;43m\"\u001b[39;49m\u001b[43m)\u001b[49m:\n\u001b[0;32m      4\u001b[0m     gamma \u001b[38;5;241m=\u001b[39m np\u001b[38;5;241m.\u001b[39mminimum(\u001b[38;5;241m1.2\u001b[39m \u001b[38;5;241m*\u001b[39m dt \u001b[38;5;241m*\u001b[39m np\u001b[38;5;241m.\u001b[39mmaximum(np\u001b[38;5;241m.\u001b[39mmax(\u001b[38;5;28mabs\u001b[39m(U)), np\u001b[38;5;241m.\u001b[39mmax(\u001b[38;5;28mabs\u001b[39m(V))), \u001b[38;5;241m1\u001b[39m)\u001b[38;5;241m.\u001b[39mreshape(\u001b[38;5;241m1\u001b[39m)\n\u001b[0;32m      7\u001b[0m     \u001b[38;5;66;03m#Add B.C to u - velocity\u001b[39;00m\n",
      "\u001b[1;31mTypeError\u001b[0m: 'module' object is not callable"
     ]
    }
   ],
   "source": [
    "# Treat nonlinear term\n",
    "\n",
    "gamma = np.minimum(1.2 * dt * np.maximum(np.max(abs(U)), np.max(abs(V))), 1).reshape(1)\n",
    " \n",
    "\n",
    "#Add B.C to u - velocity\n",
    "Ue = np.vstack([uW.T, U, uE.T]) #shape (101, 111)\n",
    "Ue = np.hstack([(2 * uS.reshape(1,-1) - Ue[:,1].reshape(1,-1)).T, Ue, (2 * uN.reshape(1,-1) - Ue[:,-1]).T]) #shape (101, 113)\n",
    "\n",
    "#Add B.C to v - velocity\n",
    "Ve = np.hstack([vS, V, vN]) #(100, 112)\n",
    "Ve = np.vstack([(2 * vW.reshape(1,-1) - Ve[1,:]), Ve, (2 * vE - Ve[-1, :])]) #shape (102, 112)\n",
    "\n",
    "#Average and apply finite difference to u - velocity\n",
    "Ua = avg(Ue.T).T\n",
    "Ud = np.diff(Ue, n = 1) / 2\n",
    "\n",
    "#Average and apply finite difference to v - velocity\n",
    "Va = avg(Ve) \n",
    "Vd = np.diff(Ve.T, n = 1) / 2 \n",
    "\n",
    "#Finite difference the nonlinear tearm (uv)_x and (uv)_y\n",
    "UVx = np.diff((Ua * Va - gamma * abs(Ua) * Vd.T).T).T / hx # (uv)_x, shape (100, 112)\n",
    "UVy = np.diff(Ua * Va - gamma * Ud * abs(Va)) / hy     # (uv)_y, shape (101, 111)\n",
    "\n",
    "#Update the average and approximate the derivative\n",
    "Ua = avg(Ue[:,1:-1]) #shape (100, 111)\n",
    "Ud = np.diff(Ue[:,1:-1].T).T / 2 #shape (100, 111)\n",
    "Va = avg(Ve[1:-1].T).T #shape (100, 111)\n",
    "Vd = np.diff(Ve[1:-1,:]) / 2 #shape (100, 111)\n",
    "\n",
    "#Compute (u^2)_x and (v^2)_y by averaging u - horizontally and v - vertically\n",
    "U2x = np.diff((Ua ** 2 - gamma * abs(Ua) * Ud).T).T / hx  #shape (99, 111)\n",
    "V2y = np.diff(Va ** 2 - gamma * abs(Va) * Vd) / hy        #shape (100, 110)\n",
    "\n",
    "#Update values of interior points\n",
    "u = U - dt * (UVy[1:-1, :] + U2x) #shape (99, 111)\n",
    "v = V - dt * (UVx[:, 1:-1] + V2y) #shape (100, 110)"
   ]
  },
  {
   "cell_type": "code",
   "execution_count": 38,
   "metadata": {},
   "outputs": [
    {
     "name": "stderr",
     "output_type": "stream",
     "text": [
      "C:\\Users\\hoang\\AppData\\Local\\Temp\\ipykernel_11796\\3169962199.py:6: SparseEfficiencyWarning: CSR matrix format is required. Converting to CSR matrix.\n",
      "  y = spla.spsolve_triangular(Ru_transpose, rhs_permuted, lower = True)\n"
     ]
    },
    {
     "ename": "LinAlgError",
     "evalue": "A is not triangular: A[0, 2] is nonzero.",
     "output_type": "error",
     "traceback": [
      "\u001b[1;31m---------------------------------------------------------------------------\u001b[0m",
      "\u001b[1;31mLinAlgError\u001b[0m                               Traceback (most recent call last)",
      "Cell \u001b[1;32mIn[38], line 6\u001b[0m\n\u001b[0;32m      4\u001b[0m rhs \u001b[38;5;241m=\u001b[39m (U \u001b[38;5;241m+\u001b[39m Ubc)\u001b[38;5;241m.\u001b[39mflatten()\n\u001b[0;32m      5\u001b[0m rhs_permuted \u001b[38;5;241m=\u001b[39m rhs[peru]\n\u001b[1;32m----> 6\u001b[0m y \u001b[38;5;241m=\u001b[39m \u001b[43mspla\u001b[49m\u001b[38;5;241;43m.\u001b[39;49m\u001b[43mspsolve_triangular\u001b[49m\u001b[43m(\u001b[49m\u001b[43mRu_transpose\u001b[49m\u001b[43m,\u001b[49m\u001b[43m \u001b[49m\u001b[43mrhs_permuted\u001b[49m\u001b[43m,\u001b[49m\u001b[43m \u001b[49m\u001b[43mlower\u001b[49m\u001b[43m \u001b[49m\u001b[38;5;241;43m=\u001b[39;49m\u001b[43m \u001b[49m\u001b[38;5;28;43;01mTrue\u001b[39;49;00m\u001b[43m)\u001b[49m\n\u001b[0;32m      7\u001b[0m u \u001b[38;5;241m=\u001b[39m spla\u001b[38;5;241m.\u001b[39mspsolve_triangular(Ru, y, lower \u001b[38;5;241m=\u001b[39m \u001b[38;5;28;01mFalse\u001b[39;00m)\n\u001b[0;32m      8\u001b[0m u_original \u001b[38;5;241m=\u001b[39m np\u001b[38;5;241m.\u001b[39mempty_like(u)\n",
      "File \u001b[1;32mc:\\Users\\hoang\\AppData\\Local\\Programs\\Python\\Python311\\Lib\\site-packages\\scipy\\sparse\\linalg\\_dsolve\\linsolve.py:732\u001b[0m, in \u001b[0;36mspsolve_triangular\u001b[1;34m(A, b, lower, overwrite_A, overwrite_b, unit_diagonal)\u001b[0m\n\u001b[0;32m    729\u001b[0m     \u001b[38;5;28;01mraise\u001b[39;00m LinAlgError(\n\u001b[0;32m    730\u001b[0m         \u001b[38;5;124mf\u001b[39m\u001b[38;5;124m'\u001b[39m\u001b[38;5;124mA is singular: diagonal \u001b[39m\u001b[38;5;132;01m{\u001b[39;00mi\u001b[38;5;132;01m}\u001b[39;00m\u001b[38;5;124m is zero.\u001b[39m\u001b[38;5;124m'\u001b[39m)\n\u001b[0;32m    731\u001b[0m \u001b[38;5;28;01mif\u001b[39;00m \u001b[38;5;129;01mnot\u001b[39;00m unit_diagonal \u001b[38;5;129;01mand\u001b[39;00m A\u001b[38;5;241m.\u001b[39mindices[A_diagonal_index_row_i] \u001b[38;5;241m>\u001b[39m i:\n\u001b[1;32m--> 732\u001b[0m     \u001b[38;5;28;01mraise\u001b[39;00m LinAlgError(\n\u001b[0;32m    733\u001b[0m         \u001b[38;5;124m'\u001b[39m\u001b[38;5;124mA is not triangular: A[\u001b[39m\u001b[38;5;132;01m{}\u001b[39;00m\u001b[38;5;124m, \u001b[39m\u001b[38;5;132;01m{}\u001b[39;00m\u001b[38;5;124m] is nonzero.\u001b[39m\u001b[38;5;124m'\u001b[39m\n\u001b[0;32m    734\u001b[0m         \u001b[38;5;124m'\u001b[39m\u001b[38;5;124m'\u001b[39m\u001b[38;5;241m.\u001b[39mformat(i, A\u001b[38;5;241m.\u001b[39mindices[A_diagonal_index_row_i]))\n\u001b[0;32m    736\u001b[0m \u001b[38;5;66;03m# Incorporate off-diagonal entries.\u001b[39;00m\n\u001b[0;32m    737\u001b[0m A_column_indices_in_row_i \u001b[38;5;241m=\u001b[39m A\u001b[38;5;241m.\u001b[39mindices[A_off_diagonal_indices_row_i]\n",
      "\u001b[1;31mLinAlgError\u001b[0m: A is not triangular: A[0, 2] is nonzero."
     ]
    }
   ],
   "source": [
    "#Implicit velocity\n",
    "\n",
    "#u* intermediate velocity\n",
    "rhs = (U + Ubc).flatten()\n",
    "rhs_permuted = rhs[peru]\n",
    "y = spla.spsolve_triangular(Ru_transpose, rhs_permuted, lower = True)\n",
    "u = spla.spsolve_triangular(Ru, y, lower = False)\n",
    "u_original = np.empty_like(u)\n",
    "u_original[peru] = u\n",
    "u_reshaped = np.reshape(u_original, (nx - 1, ny))\n",
    "\n",
    "\n"
   ]
  },
  {
   "cell_type": "code",
   "execution_count": 37,
   "metadata": {},
   "outputs": [
    {
     "data": {
      "text/plain": [
       "(10989,)"
      ]
     },
     "execution_count": 37,
     "metadata": {},
     "output_type": "execute_result"
    }
   ],
   "source": [
    "rhs_permuted.shape"
   ]
  },
  {
   "cell_type": "code",
   "execution_count": 30,
   "metadata": {},
   "outputs": [
    {
     "data": {
      "text/plain": [
       "(99, 111)"
      ]
     },
     "execution_count": 30,
     "metadata": {},
     "output_type": "execute_result"
    }
   ],
   "source": [
    "u.shape "
   ]
  },
  {
   "cell_type": "code",
   "execution_count": 371,
   "metadata": {},
   "outputs": [
    {
     "data": {
      "text/plain": [
       "((99, 111), (100, 110))"
      ]
     },
     "execution_count": 371,
     "metadata": {},
     "output_type": "execute_result"
    }
   ],
   "source": [
    "u.shape, v.shape    "
   ]
  },
  {
   "cell_type": "code",
   "execution_count": 356,
   "metadata": {},
   "outputs": [
    {
     "data": {
      "text/plain": [
       "((100, 112), (101, 111), (99, 111), (100, 110))"
      ]
     },
     "execution_count": 356,
     "metadata": {},
     "output_type": "execute_result"
    }
   ],
   "source": [
    "UVx.shape, UVy.shape, U2x.shape, V2y.shape    "
   ]
  },
  {
   "cell_type": "code",
   "execution_count": 319,
   "metadata": {},
   "outputs": [
    {
     "data": {
      "text/plain": [
       "((100, 111), (100, 111), (100, 111), (100, 111))"
      ]
     },
     "execution_count": 319,
     "metadata": {},
     "output_type": "execute_result"
    }
   ],
   "source": [
    "Ua.shape, Ud.shape, Va.shape, Vd.shape    "
   ]
  }
 ],
 "metadata": {
  "kernelspec": {
   "display_name": "Python 3",
   "language": "python",
   "name": "python3"
  },
  "language_info": {
   "codemirror_mode": {
    "name": "ipython",
    "version": 3
   },
   "file_extension": ".py",
   "mimetype": "text/x-python",
   "name": "python",
   "nbconvert_exporter": "python",
   "pygments_lexer": "ipython3",
   "version": "3.11.1"
  }
 },
 "nbformat": 4,
 "nbformat_minor": 2
}
